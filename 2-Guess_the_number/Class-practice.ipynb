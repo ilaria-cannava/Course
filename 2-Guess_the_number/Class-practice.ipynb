{
 "cells": [
  {
   "cell_type": "code",
   "execution_count": 14,
   "metadata": {},
   "outputs": [
    {
     "name": "stdout",
     "output_type": "stream",
     "text": [
      "The restaurant is called Cocotte and it offers French cuisine\n",
      "Cocotte is open\n"
     ]
    }
   ],
   "source": [
    "class Restaurant:\n",
    "\n",
    "    def __init__(self, restaurant_name, cuisine_type):\n",
    "        \n",
    "        self.restaurant_name = restaurant_name\n",
    "        self.cuisine_type = cuisine_type\n",
    "        \n",
    "        \n",
    "    def describe_restaurant(self):\n",
    "        print(f\"The restaurant is called {self.restaurant_name} and it offers {self.cuisine_type} cuisine\")\n",
    "        \n",
    "    def open_restaurant(self):\n",
    "        print(f\"{self.restaurant_name} is open\")\n",
    "    \n",
    "    \n",
    "Risto = Restaurant('Cocotte', 'French')\n",
    "\n",
    "Risto.describe_restaurant()\n",
    "Risto.open_restaurant()\n"
   ]
  },
  {
   "cell_type": "markdown",
   "metadata": {},
   "source": []
  }
 ],
 "metadata": {
  "kernelspec": {
   "display_name": "Python 3",
   "language": "python",
   "name": "python3"
  },
  "language_info": {
   "codemirror_mode": {
    "name": "ipython",
    "version": 3
   },
   "file_extension": ".py",
   "mimetype": "text/x-python",
   "name": "python",
   "nbconvert_exporter": "python",
   "pygments_lexer": "ipython3",
   "version": "3.9.13"
  }
 },
 "nbformat": 4,
 "nbformat_minor": 2
}
