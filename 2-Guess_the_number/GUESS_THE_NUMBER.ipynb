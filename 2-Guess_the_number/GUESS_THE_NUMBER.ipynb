{
 "cells": [
  {
   "cell_type": "code",
   "execution_count": 1,
   "metadata": {},
   "outputs": [
    {
     "name": "stdout",
     "output_type": "stream",
     "text": [
      "You are playing guess the number!\n",
      "Not an integer! Try again.\n",
      "You have guessed! The number is 7, you have guessed in 1 attempts.\n"
     ]
    }
   ],
   "source": [
    "import random\n",
    "\n",
    "answers = [\"yes\", \"y\", \"no\", \"n\"]\n",
    "guess = 0                                           \n",
    "count = 0 \n",
    "#deciding range number so can be easily changed or user can be asked to change it\n",
    "min = 0\n",
    "max = 10 \n",
    "\n",
    "#define a function to check if user entries are integers\n",
    "def inputNumber(message):\n",
    "  while True:\n",
    "    try:\n",
    "       userInput= int(input(message))       \n",
    "    except ValueError:\n",
    "       print(\"Not an integer! Try again.\")\n",
    "       continue\n",
    "    else:\n",
    "       return userInput\n",
    "       break \n",
    "   \n",
    "   \n",
    "##MAIN PROGRAM START HERE\n",
    "    \n",
    "while True:\n",
    "    play = input(\"Do you want to play (y/n)?\").lower()\n",
    "    if play in answers:\n",
    "        break\n",
    "    else: \n",
    "        play=input(\"I didnt understand, please answer yes or no:\")\n",
    "\n",
    "        \n",
    "if play == \"y\" or play == \"yes\": \n",
    "    print('You are playing guess the number!')\n",
    "    #generate an integer number random in the range\n",
    "    number = random.randint(min, max)\n",
    "    guess = inputNumber(f\"I am thinking of an integer number between {min} and {max}, enter your guess:\")\n",
    "    \n",
    "    while True: \n",
    "        if guess > number:\n",
    "            count += 1\n",
    "            print ('attempt',count, ':', guess,'too high!')\n",
    "            guess = inputNumber('Your guess is bigger than the number, enter a smaller number:')\n",
    "            \n",
    "    \n",
    "        elif guess < number:\n",
    "            count += 1\n",
    "            print ('attempt',count, ':', guess,'too small!')\n",
    "            guess = inputNumber('Your guess is smaller than the number, enter a bigger number:')\n",
    "                \n",
    "                    \n",
    "        else:\n",
    "            break\n",
    "    count +=1\n",
    "    print(f\"You have guessed! The number is {number}, you have guessed in {count} attempts.\")\n",
    "        \n",
    "\n",
    "\n",
    "elif play == \"n\" or play == \"no\":\n",
    "    print ('See you next time!')\n",
    "    \n",
    "\n",
    "\n",
    "#ask if the user wanna play again (Do you want to play again?)"
   ]
  }
 ],
 "metadata": {
  "kernelspec": {
   "display_name": "Python 3",
   "language": "python",
   "name": "python3"
  },
  "language_info": {
   "codemirror_mode": {
    "name": "ipython",
    "version": 3
   },
   "file_extension": ".py",
   "mimetype": "text/x-python",
   "name": "python",
   "nbconvert_exporter": "python",
   "pygments_lexer": "ipython3",
   "version": "3.9.13"
  }
 },
 "nbformat": 4,
 "nbformat_minor": 2
}
