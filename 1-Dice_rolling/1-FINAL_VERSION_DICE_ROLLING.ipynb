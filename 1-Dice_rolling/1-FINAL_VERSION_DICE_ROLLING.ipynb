{
 "cells": [
  {
   "cell_type": "code",
   "execution_count": 1,
   "metadata": {},
   "outputs": [
    {
     "name": "stdout",
     "output_type": "stream",
     "text": [
      "Dice rolling...\n",
      "Your roll is 4!\n",
      "Dice rolling...\n",
      "Your roll is 1!\n",
      "Dice rolling...\n",
      "Your roll is 4!\n",
      "Please enter yes/no.\n",
      "Please enter yes/no.\n",
      "Please enter yes/no.\n",
      "Please enter yes/no.\n",
      "Dice rolling...\n",
      "Your roll is 5!\n",
      "Thanks for playing!\n"
     ]
    }
   ],
   "source": [
    "import random\n",
    "\n",
    "class Dice:\n",
    "    \"\"\"\n",
    "    A class used to represent a Die\n",
    "\n",
    "    ...\n",
    "    Attributes\n",
    "    ----------\n",
    "    faces : list\n",
    "        a list containing the faces of the die\n",
    "    \n",
    "    Methods\n",
    "    -------\n",
    "    roll()\n",
    "        Rolls the die and keeps rerolling if requested\n",
    "    \"\"\"\n",
    "\n",
    "    def __init__(self, faces: list = [1,2,3,4,5,6]) -> None:\n",
    "        self.faces = faces\n",
    "\n",
    "    def roll(self) -> None:\n",
    "        while True:\n",
    "            print('Dice rolling...')\n",
    "            result = random.randint(0, len(self.faces)-1)\n",
    "            random_face = self.faces[result]\n",
    "            print(f'Your roll is {random_face}!')\n",
    "            reroll = self._reroll()\n",
    "            if not reroll:\n",
    "                print('Thanks for playing!')\n",
    "                break\n",
    "    \n",
    "    def _reroll(self) -> bool:\n",
    "        while True:\n",
    "            confirm = ['yes', 'y']\n",
    "            deny = ['no', 'n']\n",
    "            user_input = input(f'Would you like to roll again ({confirm[0]}/{deny[0]})? ')\n",
    "            decision = user_input.lower()\n",
    "            if decision in confirm:\n",
    "                return True\n",
    "            if decision in deny:\n",
    "                return False\n",
    "            print(f'Please enter {confirm[0]}/{deny[0]}.')\n",
    "\n",
    "if __name__ == '__main__':\n",
    "    d6 = Dice()\n",
    "    d6.roll()"
   ]
  }
 ],
 "metadata": {
  "kernelspec": {
   "display_name": "Python 3",
   "language": "python",
   "name": "python3"
  },
  "language_info": {
   "codemirror_mode": {
    "name": "ipython",
    "version": 3
   },
   "file_extension": ".py",
   "mimetype": "text/x-python",
   "name": "python",
   "nbconvert_exporter": "python",
   "pygments_lexer": "ipython3",
   "version": "3.9.13"
  }
 },
 "nbformat": 4,
 "nbformat_minor": 2
}
