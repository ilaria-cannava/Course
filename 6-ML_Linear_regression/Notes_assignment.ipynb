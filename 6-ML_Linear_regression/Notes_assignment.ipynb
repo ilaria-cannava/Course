{
 "cells": [
  {
   "cell_type": "code",
   "execution_count": null,
   "metadata": {},
   "outputs": [],
   "source": [
    "columns_to_drop = ['DEP_DELAY',\n",
    "                   'DISTANCE',\n",
    "                   'Dew Point',\n",
    "                   'Wind Gust',\n",
    "                   'Pressure',\n",
    "                   'categorized_conditions_DRIZZLE&FOG','categorized_conditions_FAIR','categorized_conditions_FOG', 'categorized_conditions_FREEZING RAIN',\n",
    "                   'categorized_conditions_HEAVY RAIN', 'categorized_conditions_LIGHT DRIZZLE', 'categorized_conditions_LIGHT RAIN',\n",
    "                   'categorized_conditions_LIGHT SNOW', 'categorized_conditions_RAIN', 'categorized_conditions_SNOW', 'categorized_conditions_WINTRY MIX'   \n",
    "]\n",
    "df = df.drop(columns=columns_to_drop)\n",
    "\n",
    "to_drop = ['categorized_conditions_HEAVY RAIN', 'categorized_conditions_LIGHT DRIZZLE', 'categorized_conditions_LIGHT RAIN','categorized_conditions_LIGHT SNOW',\n",
    "           'categorized_conditions_RAIN', 'categorized_conditions_SNOW', 'categorized_conditions_WINTRY MIX']\n",
    "\n",
    "df = df.drop(columns=to_drop)"
   ]
  },
  {
   "cell_type": "code",
   "execution_count": null,
   "metadata": {},
   "outputs": [],
   "source": [
    "to_drop = ['categorized_conditions_HEAVY RAIN', 'categorized_conditions_LIGHT DRIZZLE', 'categorized_conditions_LIGHT RAIN','categorized_conditions_LIGHT SNOW',\n",
    "           'categorized_conditions_RAIN', 'categorized_conditions_SNOW', 'categorized_conditions_WINTRY MIX']\n",
    "\n",
    "df = df.drop(columns=to_drop)"
   ]
  },
  {
   "cell_type": "code",
   "execution_count": null,
   "metadata": {},
   "outputs": [],
   "source": [
    "#<class 'pandas.core.frame.DataFrame'>\n",
    "#Index: 28818 entries, 0 to 28819\n",
    "#Data columns (total 8 columns):\n",
    " #   Column        Non-Null Count  Dtype\n",
    "---  ------        --------------  -----\n",
    " #0   MONTH         28818 non-null  int64\n",
    " #1   DAY_OF_MONTH  28818 non-null  int64\n",
    " #2   DAY_OF_WEEK   28818 non-null  int64\n",
    " #3   Temperature   28818 non-null  int64\n",
    " #4   Humidity      28818 non-null  int64\n",
    " #5   Wind Speed    28818 non-null  int64\n",
    " #6   sch_dep       28818 non-null  int64\n",
    " #7   TAXI_OUT      28818 non-null  int64\n",
    "#dtypes: int64(8)\n",
    "#memory usage: 2.0 MB\n",
    "\n",
    "X= df.iloc[:, 0:6].values\n",
    "y= df.iloc[:, 7].values\n",
    "print(X.shape)\n",
    "print(y.shape)"
   ]
  }
 ],
 "metadata": {
  "language_info": {
   "name": "python"
  }
 },
 "nbformat": 4,
 "nbformat_minor": 2
}
