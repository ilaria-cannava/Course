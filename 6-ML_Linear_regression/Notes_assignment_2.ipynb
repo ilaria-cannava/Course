{
 "cells": [
  {
   "cell_type": "code",
   "execution_count": null,
   "metadata": {},
   "outputs": [],
   "source": [
    "# Multiple Linear Regression using all the predictors available\n",
    "\n",
    "# Separating target/y/dependent variable from the predictors\n",
    "target = 'TAXI_OUT'\n",
    "y_all = df_copy_1[target].values\n",
    "X_all = df_copy_1.loc[:, df.columns != target].values\n",
    "print(y_all.shape)\n",
    "print(X_all.shape)\n",
    "\n",
    "# Checking that X and y are np array and I can feed them to the Linear Regression\n",
    "print(type(y_all))\n",
    "print(type(X_all))"
   ]
  },
  {
   "cell_type": "code",
   "execution_count": null,
   "metadata": {},
   "outputs": [],
   "source": [
    "#ONE-HOT CODING: Hot-Encoding the Categorical Columns\n",
    "categorical_column = ['Wind', 'OP_UNIQUE_CARRIER','DEST', 'Dew Point']\n",
    "\n",
    "df_all = pd.get_dummies(df_all, columns=categorical_column, drop_first=True)"
   ]
  },
  {
   "cell_type": "code",
   "execution_count": null,
   "metadata": {},
   "outputs": [],
   "source": [
    "# Split the data\n",
    "X_all_train,X_all_test, y_all_train, y_all_test = train_test_split(X_all,y_all, test_size= 1/3, random_state=1)"
   ]
  },
  {
   "cell_type": "code",
   "execution_count": null,
   "metadata": {},
   "outputs": [],
   "source": [
    "# Normalisation of the data\n",
    "# standard scaler\n",
    "scaler_x = StandardScaler()\n",
    "X_all_train = scaler_x.fit_transform(X_all_train)\n",
    "X_all_test =scaler_x.transform(X_all_test)"
   ]
  },
  {
   "cell_type": "code",
   "execution_count": null,
   "metadata": {},
   "outputs": [],
   "source": [
    "# Fitting the model\n",
    "\n",
    "lr_all = LinearRegression()\n",
    "lr_all.fit(X_all_train, y_all_train)"
   ]
  },
  {
   "cell_type": "code",
   "execution_count": null,
   "metadata": {},
   "outputs": [],
   "source": [
    "# Evaluating the model with the previously coded function\n",
    "\n",
    "model_evaluation(lr_all, X_all_test_scaled, y_all_test, 'Linear Regression')"
   ]
  }
 ],
 "metadata": {
  "language_info": {
   "name": "python"
  }
 },
 "nbformat": 4,
 "nbformat_minor": 2
}
