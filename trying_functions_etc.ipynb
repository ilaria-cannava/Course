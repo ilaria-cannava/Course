{
 "cells": [
  {
   "cell_type": "code",
   "execution_count": 18,
   "metadata": {},
   "outputs": [
    {
     "name": "stdout",
     "output_type": "stream",
     "text": [
      "['stone', 'house', 'diamond', 'cup']\n",
      "['diamond', 'stone', 'cup', 'house']\n"
     ]
    }
   ],
   "source": [
    "import random\n",
    "\n",
    "list = ['stone', 'house', 'diamond', 'cup']\n",
    "\n",
    "print(list)\n",
    "random.shuffle(list)\n",
    "#random.shuffle does not create a new list\n",
    "print(list)"
   ]
  }
 ],
 "metadata": {
  "kernelspec": {
   "display_name": "Python 3",
   "language": "python",
   "name": "python3"
  },
  "language_info": {
   "codemirror_mode": {
    "name": "ipython",
    "version": 3
   },
   "file_extension": ".py",
   "mimetype": "text/x-python",
   "name": "python",
   "nbconvert_exporter": "python",
   "pygments_lexer": "ipython3",
   "version": "3.9.13"
  }
 },
 "nbformat": 4,
 "nbformat_minor": 2
}
