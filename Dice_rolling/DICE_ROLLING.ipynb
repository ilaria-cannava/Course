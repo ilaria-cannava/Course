{
 "cells": [
  {
   "cell_type": "code",
   "execution_count": 21,
   "metadata": {},
   "outputs": [
    {
     "name": "stdout",
     "output_type": "stream",
     "text": [
      "The result is  1\n",
      "The result is  6\n",
      "The result is  4\n",
      "I didnt understand, please answer yes or not.\n",
      "The result is  7\n",
      "See you next time!\n"
     ]
    }
   ],
   "source": [
    "\n",
    "import random \n",
    "answers = [\"yes\", \"y\", \"no\", \"n\"]\n",
    "\n",
    "while True:\n",
    "    play_1=input('Do you want to roll the dice?')\n",
    "    if play_1 == \"yes\" or play_1 ==\"no\":\n",
    "        \n",
    "        if play_1 == \"no\":\n",
    "            print(\"See you next time!\")\n",
    "            break\n",
    "        \n",
    "        elif play_1 ==\"yes\":\n",
    "            result = random.randint(1,6)\n",
    "            print(\"The result is \", result)\n",
    "            continue\n",
    "    \n",
    "    else: \n",
    "        print(\"I didnt understand, please answer yes or no.\")\n",
    "        \n",
    "    \n"
   ]
  },
  {
   "cell_type": "code",
   "execution_count": 16,
   "metadata": {},
   "outputs": [
    {
     "name": "stdout",
     "output_type": "stream",
     "text": [
      "Thanks for playing, see you next time!\n"
     ]
    }
   ],
   "source": [
    "import random \n",
    "answers = [\"yes\", \"y\", \"no\", \"n\"]\n",
    "play = input('Do you want to roll the dice?')\n",
    "\n",
    "while play not in answers:\n",
    "        play=input(\"I didnt understand, please answer yes or no:\")\n",
    "\n",
    "else:\n",
    "    while play == \"yes\" or play == \"y\":\n",
    "        result = random.randint(1,7)\n",
    "        print(\"The result is \", result)\n",
    "        play = input('Do you want roll again?')\n",
    "        \n",
    "    print(\"Thanks for playing, see you next time!\")\n",
    "            \n",
    "\n"
   ]
  }
 ],
 "metadata": {
  "kernelspec": {
   "display_name": "Python 3",
   "language": "python",
   "name": "python3"
  },
  "language_info": {
   "codemirror_mode": {
    "name": "ipython",
    "version": 3
   },
   "file_extension": ".py",
   "mimetype": "text/x-python",
   "name": "python",
   "nbconvert_exporter": "python",
   "pygments_lexer": "ipython3",
   "version": "3.9.13"
  }
 },
 "nbformat": 4,
 "nbformat_minor": 2
}
