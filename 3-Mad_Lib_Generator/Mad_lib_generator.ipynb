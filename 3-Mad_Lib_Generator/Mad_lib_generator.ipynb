{
 "cells": [
  {
   "cell_type": "code",
   "execution_count": 1,
   "metadata": {},
   "outputs": [
    {
     "name": "stdout",
     "output_type": "stream",
     "text": [
      "Great! Lets play...\n",
      "\n",
      "And here it goes your story!\n",
      "\n",
      "Once upon a time in the magical land of Thousands chairs, a curious little kid named ilaria\n",
      "discovered a talking tall monkey hiding in an enchanted piano, named Luna. Excitedly, they became\n",
      "inseparable friends and embarked in a wacky adventure to find the magically neverending risotto and\n",
      "bring it as gift to the people of their land and make them forever angry.\n"
     ]
    }
   ],
   "source": [
    "#MAD LIB GENERATOR FOR KIDS\n",
    "import textwrap\n",
    "\n",
    "#INTRO: ask the user if he wants to play and accept valid answers\n",
    "answers = [\"yes\", \"y\", \"no\", \"n\"]\n",
    "while True:\n",
    "    play = input(\"This is a mad lib, do you want to play (y/n)?\").lower()\n",
    "    if play in answers:\n",
    "        break\n",
    "    else: \n",
    "        play=input(\"I didnt understand, please answer yes or no:\")\n",
    "        \n",
    "#playing is inside if, ask user to input words and check that no input is skipped      \n",
    "if play == \"y\" or play == \"yes\": \n",
    "    print ('Great! Lets play...\\n')\n",
    "     \n",
    "    inputs_requests =[\n",
    "        'Please enter an object:',\n",
    "        'Please enter your name: ',\n",
    "        'Please enter adjective : ',\n",
    "        'Please enter an animal:',\n",
    "        'Please enter an object: ',\n",
    "        'Please enter the name of a friend:',\n",
    "        'Please enter the name of something to eat:',\n",
    "        'Enter and adjective to describe an emotion:']  \n",
    "\n",
    "    user_inputs = []\n",
    "    range = 8\n",
    "    i=0\n",
    "    while True:\n",
    "        if i < range:\n",
    "            input_value= input(inputs_requests[i])\n",
    "        \n",
    "            if input_value.strip():  \n",
    "                # Check if the input is not empty after stripping whitespace\n",
    "                user_inputs.append(input_value)\n",
    "                i += 1\n",
    "                \n",
    "            else:\n",
    "                print(\"You can't skip this, please enter something!\")\n",
    "                \n",
    "        else:\n",
    "            break\n",
    "    \n",
    "\n",
    "\n",
    "#output of the game: adding the user's inputs to a premade story and print it on the terminal\n",
    "    story= ('Once upon a time in the magical land of Thousands ' + str(user_inputs[0]) +'s, a curious little kid named '\n",
    "          + str(user_inputs[1]) +' discovered a talking '+ str(user_inputs[2]) +' '+ str(user_inputs[3]) +\n",
    "        ' hiding in an enchanted ' + str(user_inputs[4]) + ', named ' + str(user_inputs[5]) +\n",
    "        '. Excitedly, they became inseparable friends and embarked in a wacky adventure to find the magically neverending '+ str(user_inputs[6]) +\n",
    "        ' and bring it as gift to the people of their land and make them forever '+ str(user_inputs[7]) +'.') \n",
    "    print('And here it goes your story!\\n')\n",
    "    \n",
    "    #tiding up the print\n",
    "    lines = textwrap.wrap(story, width=100)\n",
    "    for line in lines:\n",
    "        print(line)\n",
    "     \n",
    "#not playing\n",
    "else: \n",
    "    print('Sorry you are leaving, come back soon!')\n",
    "    \n",
    "    \n",
    "    \n",
    "    \n",
    "\n",
    " "
   ]
  }
 ],
 "metadata": {
  "kernelspec": {
   "display_name": "Python 3",
   "language": "python",
   "name": "python3"
  },
  "language_info": {
   "codemirror_mode": {
    "name": "ipython",
    "version": 3
   },
   "file_extension": ".py",
   "mimetype": "text/x-python",
   "name": "python",
   "nbconvert_exporter": "python",
   "pygments_lexer": "ipython3",
   "version": "3.12.1"
  }
 },
 "nbformat": 4,
 "nbformat_minor": 2
}
