{
 "cells": [
  {
   "cell_type": "code",
   "execution_count": null,
   "metadata": {},
   "outputs": [],
   "source": [
    "#MAD LIB GENERATOR, ONE STORY\n",
    "# lis tof valid answers\n",
    "answers = [\"yes\", \"y\", \"no\", \"n\"]\n",
    "\n",
    "#intro function to ask if the want to play and create the output file\n",
    "#def madlib_intro()?\n",
    "\n",
    "#function to ask the user if he wants to play and accept valid answers\n",
    "while True:\n",
    "    play = input(\"Do you want to play (y/n)?\").lower()\n",
    "    if play in answers:\n",
    "        break\n",
    "    else: \n",
    "        play=input(\"I didnt understand, please answer yes or no:\")\n",
    "file_name = input('What is your name?')\n",
    "\n",
    "Create a file with that name \n",
    "    error if exists, ask for a different name\n",
    "    \n",
    "Else:\n",
    "    print ('Lets play!')\n",
    "\n",
    "\n",
    "#def to ask for inputs ask for inputs\n",
    "adjactive = input('enter adjective : ')\n",
    "etc\n",
    "etc\n",
    "\n",
    "\n",
    "#def output of the game: a written file with the name of the user and a print n terminal\n",
    "\n",
    "with open(filename.txt,'w') as file_object:\n",
    "    file_object.write('story+inputs')\n",
    "print(filename.txt)\n",
    "\n",
    "\n",
    "\n"
   ]
  }
 ],
 "metadata": {
  "kernelspec": {
   "display_name": "Python 3",
   "language": "python",
   "name": "python3"
  },
  "language_info": {
   "name": "python",
   "version": "3.9.13"
  }
 },
 "nbformat": 4,
 "nbformat_minor": 2
}
