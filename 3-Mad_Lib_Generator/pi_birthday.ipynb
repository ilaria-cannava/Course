{
 "cells": [
  {
   "cell_type": "code",
   "execution_count": 13,
   "metadata": {},
   "outputs": [
    {
     "name": "stdout",
     "output_type": "stream",
     "text": [
      " 3.1415926535897932384626433832795028841971693993751...\n",
      "1000003\n"
     ]
    }
   ],
   "source": [
    "filename = 'pi1000000.txt'\n",
    "\n",
    "with open(filename) as file_object:\n",
    "    lines=file_object.readlines()\n",
    "pi_string = \" \"\n",
    "for line in lines:\n",
    "    pi_string += line.strip()\n",
    "    \n",
    "print(f\"{pi_string[:52]}...\")\n",
    "print(len(pi_string))"
   ]
  },
  {
   "cell_type": "code",
   "execution_count": 19,
   "metadata": {},
   "outputs": [
    {
     "name": "stdout",
     "output_type": "stream",
     "text": [
      "Yuor birthday appear in the first million digits of pi :-) !\n"
     ]
    }
   ],
   "source": [
    "birthday = (input(\"Enter your birthday in the form of ddmmyy: \"))\n",
    "if birthday in pi_string:\n",
    "    print(\"Yuor birthday appear in the first million digits of pi :-) !\")\n",
    "else:\n",
    "    print(\"Your birthday do not appear in the first million digits of pi :-( \")"
   ]
  }
 ],
 "metadata": {
  "kernelspec": {
   "display_name": "Python 3",
   "language": "python",
   "name": "python3"
  },
  "language_info": {
   "codemirror_mode": {
    "name": "ipython",
    "version": 3
   },
   "file_extension": ".py",
   "mimetype": "text/x-python",
   "name": "python",
   "nbconvert_exporter": "python",
   "pygments_lexer": "ipython3",
   "version": "3.9.13"
  }
 },
 "nbformat": 4,
 "nbformat_minor": 2
}
